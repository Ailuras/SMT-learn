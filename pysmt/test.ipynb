{
 "cells": [
  {
   "cell_type": "code",
   "execution_count": 5,
   "metadata": {},
   "outputs": [
    {
     "name": "stdout",
     "output_type": "stream",
     "text": [
      "(A & (! B))\n"
     ]
    }
   ],
   "source": [
    "from pysmt.shortcuts import Symbol, And, Not, is_sat\n",
    "varA = Symbol(\"A\") # Default type is Boolean\n",
    "varB = Symbol(\"B\")\n",
    "f = And(varA, Not(varB))\n",
    "print(f)\n",
    "g = f.substitute({varB: varA})\n",
    "# is_sat(g)"
   ]
  }
 ],
 "metadata": {
  "kernelspec": {
   "display_name": "Python 3.9.13 ('base')",
   "language": "python",
   "name": "python3"
  },
  "language_info": {
   "codemirror_mode": {
    "name": "ipython",
    "version": 3
   },
   "file_extension": ".py",
   "mimetype": "text/x-python",
   "name": "python",
   "nbconvert_exporter": "python",
   "pygments_lexer": "ipython3",
   "version": "3.9.13"
  },
  "orig_nbformat": 4,
  "vscode": {
   "interpreter": {
    "hash": "30fab6c85a083c1c486b5274d4a62cd0a72d9bbfa1f3f48a032977065912d691"
   }
  }
 },
 "nbformat": 4,
 "nbformat_minor": 2
}
