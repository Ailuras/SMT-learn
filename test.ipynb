{
 "cells": [
  {
   "cell_type": "code",
   "execution_count": null,
   "metadata": {},
   "outputs": [],
   "source": [
    "literals = {i: i*2 for i in range(-5, 6) if i != 0}\n",
    "var_inc = -1\n",
    "watchers = {i: [] for i in literals}\n",
    "print(watchers)"
   ]
  },
  {
   "cell_type": "code",
   "execution_count": null,
   "metadata": {},
   "outputs": [],
   "source": [
    "import os\n",
    "import sys\n",
    "\n",
    "path = os.getcwd()\n",
    "print(path)\n",
    "pl = path.split(\"\\\\\", -1)\n",
    "print(pl)"
   ]
  },
  {
   "cell_type": "code",
   "execution_count": null,
   "metadata": {},
   "outputs": [],
   "source": [
    "a = [1,2,3,4]\n",
    "print(a[:-1])"
   ]
  },
  {
   "cell_type": "code",
   "execution_count": null,
   "metadata": {},
   "outputs": [],
   "source": [
    "class Clause:\n",
    "    def __init__(self, lits):\n",
    "        self.lits = lits\n",
    "    def __str__(self):\n",
    "        ans = \"\"\n",
    "        for i in self.lits:\n",
    "            ans += str(i) + \" \"\n",
    "        return ans[:-1]\n",
    "    def is_satisfied(self):\n",
    "        return any(lit.is_true() for lit in self.lits)\n",
    "\n",
    "class Lit:\n",
    "    def __init__(self, lit):\n",
    "        self.lit = lit\n",
    "        self.value = 0\n",
    "    def is_true(self):\n",
    "        return self.value == 1\n",
    "    \n",
    "clauses = []      \n",
    "literals = {i: Lit(i) for i in range(3)}\n",
    "\n",
    "for i in range(1):\n",
    "    clause = [x for x in range(3)]\n",
    "    clauses.append(Clause(list({literals[x] for x in clause})))\n",
    "\n",
    "print(clauses[0].is_satisfied())\n",
    "literals[1].value = 1\n",
    "print(clauses[0].is_satisfied())"
   ]
  },
  {
   "cell_type": "code",
   "execution_count": null,
   "metadata": {},
   "outputs": [],
   "source": [
    "import heapq\n",
    "a = [100, 1, 5, 20, 18, 10, 200]\n",
    "heapq.heapify(a)\n",
    "print(a)"
   ]
  },
  {
   "cell_type": "code",
   "execution_count": 2,
   "metadata": {},
   "outputs": [
    {
     "name": "stdout",
     "output_type": "stream",
     "text": [
      "1\n",
      "1\n",
      "world\n"
     ]
    }
   ],
   "source": [
    "def test():\n",
    "    print(1)\n",
    "\n",
    "if(test()):\n",
    "    print('hello')\n",
    "if(not test()):\n",
    "    print('world')"
   ]
  }
 ],
 "metadata": {
  "kernelspec": {
   "display_name": "Python 3.8.10 64-bit",
   "language": "python",
   "name": "python3"
  },
  "language_info": {
   "codemirror_mode": {
    "name": "ipython",
    "version": 3
   },
   "file_extension": ".py",
   "mimetype": "text/x-python",
   "name": "python",
   "nbconvert_exporter": "python",
   "pygments_lexer": "ipython3",
   "version": "3.8.10"
  },
  "orig_nbformat": 4,
  "vscode": {
   "interpreter": {
    "hash": "916dbcbb3f70747c44a77c7bcd40155683ae19c65e1c03b4aa3499c5328201f1"
   }
  }
 },
 "nbformat": 4,
 "nbformat_minor": 2
}
