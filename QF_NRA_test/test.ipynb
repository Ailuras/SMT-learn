{
 "cells": [
  {
   "cell_type": "markdown",
   "metadata": {},
   "source": [
    "生成约束和变量个数信息"
   ]
  },
  {
   "cell_type": "markdown",
   "metadata": {},
   "source": []
  },
  {
   "cell_type": "code",
   "execution_count": null,
   "metadata": {},
   "outputs": [],
   "source": [
    "import pandas as pd\n",
    "import os\n",
    "import re\n",
    "import tqdm\n",
    "import matplotlib.pyplot as plt\n",
    "\n",
    "class QF_NRA:\n",
    "    count = 0\n",
    "    def __init__(self, init=False, path='QF_NRA_spilt', data_path='result'):\n",
    "        self.path = path\n",
    "        self.data_path = data_path\n",
    "        if init:\n",
    "            self.get_info(path)\n",
    "        self.records = pd.read_excel(r\"base.xlsx\", header=[0], index_col = [0])\n",
    "\n",
    "    def get_info(self):\n",
    "        folder_list = os.listdir(self.path)\n",
    "        for folder in folder_list:\n",
    "            new_path = os.path.join(self.path, folder)\n",
    "            if os.path.isdir(new_path):\n",
    "                self.get_info(new_path)\n",
    "            else:\n",
    "                with open(new_path) as f:\n",
    "                    vars = 0\n",
    "                    assertions = 0\n",
    "                    line = f.readline()\n",
    "                    while line:\n",
    "                        if line[:3] == '(de':\n",
    "                            vars += 1\n",
    "                        elif line[:3] == '(as':\n",
    "                            assertions += 1\n",
    "                        line = f.readline()\n",
    "                    # print(count, \"/\", total,\": \", filename, \"+\", vars, \"+\", assertions)\n",
    "                    self.count += 1\n",
    "                    category = new_path.split('/')[1]\n",
    "                    self.records = self.records.append({'filename': new_path, 'category':category, '#vars':vars, '#assertions':assertions}, ignore_index=True, verify_integrity=True)    \n",
    "        \n",
    "    def arrange(self):\n",
    "        file_list = os.listdir(self.data_path)\n",
    "        for filename in tqdm(file_list, desc = self.data_path):\n",
    "            with open(os.path.join(self.data_path, filename)) as f:\n",
    "                while f.readline():\n",
    "                    result = f.readline()\n",
    "                    if result[:3] == 'run':\n",
    "                        result = 'dump'\n",
    "                    info = f.readline()\n",
    "                    name = info.split(' : ')[0]\n",
    "                    timeout = info.split(' : ')[1][:-5]\n",
    "                    self.records.loc[self.records['filename'] == name, ['result', 'timeout']] = [result, timeout]\n",
    "        \n",
    "    def save_to(self, filename):\n",
    "        self.records.to_excel(filename)\n",
    "    \n",
    "    def show(self):\n",
    "        folder_list = os.listdir(self.path)\n",
    "        name = []\n",
    "        solved = []\n",
    "        count = []\n",
    "        dump = []\n",
    "        timeout = []\n",
    "        for folder in folder_list:\n",
    "            name.append(folder)\n",
    "            count.append(len(self.records[self.records['category'] == folder]))\n",
    "            solved.append(len(self.records[self.records['category'] == folder & self.records['result'].str.contains('sat')]))\n",
    "            dump.append(len(self.records[self.records['category'] == folder & self.records['result'] == ('dump')]))\n",
    "            timeout.append(len(self.records[self.records['category'] == folder & self.records['result'] == ('timeout')])\n",
    "\n",
    "        plt.bar(folder_list, name, label=\"name\")\n",
    "        plt.bar(folder_list, solved, label=\"solved\")\n",
    "        plt.bar(folder_list, count, label=\"count\")\n",
    "        plt.bar(folder_list, timeout, label=\"timeout\")\n",
    "        plt.show()"
   ]
  },
  {
   "cell_type": "code",
   "execution_count": 2,
   "metadata": {},
   "outputs": [
    {
     "data": {
      "text/plain": [
       "'20161105-Sturm-MBO_2'"
      ]
     },
     "execution_count": 2,
     "metadata": {},
     "output_type": "execute_result"
    }
   ],
   "source": [
    "new_path = 'QF_NRA_split/20161105-Sturm-MBO_2/mbo_E3E11.smt2'\n",
    "category = new_path.split('/')[1]\n",
    "category"
   ]
  }
 ],
 "metadata": {
  "interpreter": {
   "hash": "ea814c3531ae77f1261bb949d124920aea475d117d8f9e008315caff54af25de"
  },
  "kernelspec": {
   "display_name": "Python 3.9.7 ('z3')",
   "language": "python",
   "name": "python3"
  },
  "language_info": {
   "codemirror_mode": {
    "name": "ipython",
    "version": 3
   },
   "file_extension": ".py",
   "mimetype": "text/x-python",
   "name": "python",
   "nbconvert_exporter": "python",
   "pygments_lexer": "ipython3",
   "version": "3.9.7"
  },
  "orig_nbformat": 4
 },
 "nbformat": 4,
 "nbformat_minor": 2
}
