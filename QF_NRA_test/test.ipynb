{
 "cells": [
  {
   "cell_type": "markdown",
   "metadata": {},
   "source": [
    "生成约束和变量个数信息"
   ]
  },
  {
   "cell_type": "markdown",
   "metadata": {},
   "source": []
  },
  {
   "cell_type": "code",
   "execution_count": 3,
   "metadata": {},
   "outputs": [],
   "source": [
    "import pandas as pd\n",
    "import os\n",
    "import re\n",
    "import tqdm\n",
    "import matplotlib.pyplot as plt\n",
    "\n",
    "class QF_NRA:\n",
    "    count = 0\n",
    "    def __init__(self, init=False, path='../../QF_NRA_spilt', data_path='result'):\n",
    "        self.path = path\n",
    "        self.data_path = data_path\n",
    "        if init:\n",
    "            self.get_info(path)\n",
    "        self.records = pd.read_excel(r\"base.xlsx\", header=[0], index_col = [0])\n",
    "\n",
    "    def get_info(self, path):\n",
    "        folder_list = os.listdir(path)\n",
    "        for folder in folder_list:\n",
    "            new_path = os.path.join(path, folder)\n",
    "            if os.path.isdir(new_path):\n",
    "                self.get_info(new_path)\n",
    "            else:\n",
    "                with open(new_path) as f:\n",
    "                    vars = 0\n",
    "                    assertions = 0\n",
    "                    line = f.readline()\n",
    "                    while line:\n",
    "                        if line[:3] == '(de':\n",
    "                            vars += 1\n",
    "                        elif line[:3] == '(as':\n",
    "                            assertions += 1\n",
    "                        line = f.readline()\n",
    "                    # print(count, \"/\", total,\": \", filename, \"+\", vars, \"+\", assertions)\n",
    "                    self.count += 1\n",
    "                    category = new_path.split('/')[1]\n",
    "                    self.records = self.records.append({'filename': new_path, 'category':category, 'vars':vars, 'assertions':assertions}, ignore_index=True, verify_integrity=True)    \n",
    "        \n",
    "    def arrange(self):\n",
    "        file_list = os.listdir(self.data_path)\n",
    "        for filename in tqdm(file_list, desc = self.data_path):\n",
    "            with open(os.path.join(self.data_path, filename)) as f:\n",
    "                while f.readline():\n",
    "                    result = f.readline()\n",
    "                    if result[:3] == 'run':\n",
    "                        result = 'dump'\n",
    "                    info = f.readline()\n",
    "                    name = info.split(' : ')[0]\n",
    "                    timeout = info.split(' : ')[1][:-5]\n",
    "                    self.records.loc[self.records['filename'] == name, ['result', 'timeout']] = [result, timeout]\n",
    "        \n",
    "    def save_to(self, filename):\n",
    "        self.records.to_excel(filename)\n",
    "    \n",
    "    def show(self):\n",
    "        folder_list = os.listdir(self.path)\n",
    "        name = []\n",
    "        solved = []\n",
    "        count = []\n",
    "        dump = []\n",
    "        timeout = []\n",
    "        for folder in folder_list:\n",
    "            name.append(folder)\n",
    "            count.append(len(self.records[self.records['category'] == folder]))\n",
    "            solved.append(len(self.records[self.records['category'] == folder & self.records['result'].str.contains('sat')]))\n",
    "            dump.append(len(self.records[self.records['category'] == folder & self.records['result'] == ('dump')]))\n",
    "            timeout.append(len(self.records[self.records['category'] == folder & self.records['result'] == ('timeout')]))\n",
    "\n",
    "        plt.bar(folder_list, name, label=\"name\")\n",
    "        plt.bar(folder_list, solved, label=\"solved\")\n",
    "        plt.bar(folder_list, count, label=\"count\")\n",
    "        plt.bar(folder_list, timeout, label=\"timeout\")\n",
    "        plt.show()"
   ]
  },
  {
   "cell_type": "code",
   "execution_count": 4,
   "metadata": {},
   "outputs": [
    {
     "ename": "FileNotFoundError",
     "evalue": "[Errno 2] No such file or directory: '../../QF_NRA_spilt'",
     "output_type": "error",
     "traceback": [
      "\u001b[0;31m---------------------------------------------------------------------------\u001b[0m",
      "\u001b[0;31mFileNotFoundError\u001b[0m                         Traceback (most recent call last)",
      "\u001b[1;32m/home/hrcarryu/SMT-learn/QF_NRA_test/test.ipynb Cell 4'\u001b[0m in \u001b[0;36m<cell line: 1>\u001b[0;34m()\u001b[0m\n\u001b[0;32m----> <a href='vscode-notebook-cell://wsl%2Bubuntu-20.04/home/hrcarryu/SMT-learn/QF_NRA_test/test.ipynb#ch0000003vscode-remote?line=0'>1</a>\u001b[0m a \u001b[39m=\u001b[39m QF_NRA(\u001b[39mTrue\u001b[39;49;00m)\n\u001b[1;32m      <a href='vscode-notebook-cell://wsl%2Bubuntu-20.04/home/hrcarryu/SMT-learn/QF_NRA_test/test.ipynb#ch0000003vscode-remote?line=2'>3</a>\u001b[0m a\u001b[39m.\u001b[39mrecords\n",
      "\u001b[1;32m/home/hrcarryu/SMT-learn/QF_NRA_test/test.ipynb Cell 3'\u001b[0m in \u001b[0;36mQF_NRA.__init__\u001b[0;34m(self, init, path, data_path)\u001b[0m\n\u001b[1;32m     <a href='vscode-notebook-cell://wsl%2Bubuntu-20.04/home/hrcarryu/SMT-learn/QF_NRA_test/test.ipynb#ch0000002vscode-remote?line=10'>11</a>\u001b[0m \u001b[39mself\u001b[39m\u001b[39m.\u001b[39mdata_path \u001b[39m=\u001b[39m data_path\n\u001b[1;32m     <a href='vscode-notebook-cell://wsl%2Bubuntu-20.04/home/hrcarryu/SMT-learn/QF_NRA_test/test.ipynb#ch0000002vscode-remote?line=11'>12</a>\u001b[0m \u001b[39mif\u001b[39;00m init:\n\u001b[0;32m---> <a href='vscode-notebook-cell://wsl%2Bubuntu-20.04/home/hrcarryu/SMT-learn/QF_NRA_test/test.ipynb#ch0000002vscode-remote?line=12'>13</a>\u001b[0m     \u001b[39mself\u001b[39;49m\u001b[39m.\u001b[39;49mget_info(path)\n\u001b[1;32m     <a href='vscode-notebook-cell://wsl%2Bubuntu-20.04/home/hrcarryu/SMT-learn/QF_NRA_test/test.ipynb#ch0000002vscode-remote?line=13'>14</a>\u001b[0m \u001b[39mself\u001b[39m\u001b[39m.\u001b[39mrecords \u001b[39m=\u001b[39m pd\u001b[39m.\u001b[39mread_excel(\u001b[39mr\u001b[39m\u001b[39m\"\u001b[39m\u001b[39mbase.xlsx\u001b[39m\u001b[39m\"\u001b[39m, header\u001b[39m=\u001b[39m[\u001b[39m0\u001b[39m], index_col \u001b[39m=\u001b[39m [\u001b[39m0\u001b[39m])\n",
      "\u001b[1;32m/home/hrcarryu/SMT-learn/QF_NRA_test/test.ipynb Cell 3'\u001b[0m in \u001b[0;36mQF_NRA.get_info\u001b[0;34m(self, path)\u001b[0m\n\u001b[1;32m     <a href='vscode-notebook-cell://wsl%2Bubuntu-20.04/home/hrcarryu/SMT-learn/QF_NRA_test/test.ipynb#ch0000002vscode-remote?line=15'>16</a>\u001b[0m \u001b[39mdef\u001b[39;00m \u001b[39mget_info\u001b[39m(\u001b[39mself\u001b[39m, path):\n\u001b[0;32m---> <a href='vscode-notebook-cell://wsl%2Bubuntu-20.04/home/hrcarryu/SMT-learn/QF_NRA_test/test.ipynb#ch0000002vscode-remote?line=16'>17</a>\u001b[0m     folder_list \u001b[39m=\u001b[39m os\u001b[39m.\u001b[39;49mlistdir(path)\n\u001b[1;32m     <a href='vscode-notebook-cell://wsl%2Bubuntu-20.04/home/hrcarryu/SMT-learn/QF_NRA_test/test.ipynb#ch0000002vscode-remote?line=17'>18</a>\u001b[0m     \u001b[39mfor\u001b[39;00m folder \u001b[39min\u001b[39;00m folder_list:\n\u001b[1;32m     <a href='vscode-notebook-cell://wsl%2Bubuntu-20.04/home/hrcarryu/SMT-learn/QF_NRA_test/test.ipynb#ch0000002vscode-remote?line=18'>19</a>\u001b[0m         new_path \u001b[39m=\u001b[39m os\u001b[39m.\u001b[39mpath\u001b[39m.\u001b[39mjoin(path, folder)\n",
      "\u001b[0;31mFileNotFoundError\u001b[0m: [Errno 2] No such file or directory: '../../QF_NRA_spilt'"
     ]
    }
   ],
   "source": [
    "a = QF_NRA(True)\n",
    "\n",
    "a.records"
   ]
  }
 ],
 "metadata": {
  "interpreter": {
   "hash": "30fab6c85a083c1c486b5274d4a62cd0a72d9bbfa1f3f48a032977065912d691"
  },
  "kernelspec": {
   "display_name": "Python 3.9.12 ('base')",
   "language": "python",
   "name": "python3"
  },
  "language_info": {
   "codemirror_mode": {
    "name": "ipython",
    "version": 3
   },
   "file_extension": ".py",
   "mimetype": "text/x-python",
   "name": "python",
   "nbconvert_exporter": "python",
   "pygments_lexer": "ipython3",
   "version": "3.9.12"
  },
  "orig_nbformat": 4
 },
 "nbformat": 4,
 "nbformat_minor": 2
}
