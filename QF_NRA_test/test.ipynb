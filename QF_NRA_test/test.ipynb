{
 "cells": [
  {
   "cell_type": "code",
   "execution_count": 3,
   "metadata": {},
   "outputs": [],
   "source": [
    "import pandas as pd\n",
    "import os\n",
    "import os\n",
    "import shutil\n",
    "from tqdm import tqdm\n",
    "import matplotlib.pyplot as plt\n",
    "\n",
    "class QF_NRA:\n",
    "    count = 0\n",
    "    index = 0\n",
    "    def __init__(self, init=False, path='../../QF_NRA', data_path='result', execl='base.xlsx'):\n",
    "        self.path = path\n",
    "        self.data_path = data_path\n",
    "        self.records = pd.read_excel(execl, header=[0], index_col = [0])\n",
    "        if init:\n",
    "            self.records = self.records.drop(index=self.records.index)\n",
    "            self.get_info(path)\n",
    "\n",
    "    def get_info(self, path):\n",
    "        folder_list = os.listdir(path)\n",
    "        for folder in folder_list:\n",
    "            new_path = os.path.join(path, folder)\n",
    "            if os.path.isdir(new_path):\n",
    "                self.get_info(new_path)\n",
    "            else:\n",
    "                with open(new_path) as f:\n",
    "                    vars = 0\n",
    "                    assertions = 0\n",
    "                    status = 'none'\n",
    "                    line = f.readline()\n",
    "                    while line:\n",
    "                        if line[:3] == '(de':\n",
    "                            vars += 1\n",
    "                        elif line[:3] == '(as':\n",
    "                            assertions += 1\n",
    "                        elif line[11:17] == 'status':\n",
    "                            status = line.split(' ')[2][:-2]\n",
    "                        line = f.readline()\n",
    "                    # print(count, \"/\", total,\": \", filename, \"+\", vars, \"+\", assertions)\n",
    "                    self.count += 1\n",
    "                    new_path = new_path[6:].replace('temp/', '')\n",
    "                    category = new_path.split('/')[1]\n",
    "                    # self.records = self.records.concat({'filename': new_path, 'category':category, 'vars':vars, 'assertions':assertions}, ignore_index=True, verify_integrity=True)\n",
    "                    self.records.loc[len(self.records.index)] = [new_path, category, vars, assertions, status, '0', '0']\n",
    "\n",
    "    def arrange(self):\n",
    "        file_list = os.listdir(self.data_path)\n",
    "        for filename in tqdm(file_list, desc=self.data_path):\n",
    "            with open(os.path.join(self.data_path, filename)) as f:\n",
    "                try:\n",
    "                    if self.data_path == 'result':\n",
    "                        while f.readline():\n",
    "                            result = f.readline()[:-1]\n",
    "                            if result[:3] == 'run':\n",
    "                                result = 'dump'\n",
    "                            info = f.readline()\n",
    "                            name = info.split(' : ')[0]\n",
    "                            timeout = info.split(' : ')[1][:-4]\n",
    "                            # print(timeout)\n",
    "                            # print(name)\n",
    "                            # print(len(self.records.loc[self.records['filename'] == name]))\n",
    "                            self.records.loc[self.records['filename'] == name, ['result', 'timeout']] = [result, timeout]\n",
    "                    else:\n",
    "                        while f.readline():\n",
    "                            info = f.readline()\n",
    "                            result = 'timeout'\n",
    "                            while info[:2] != 'QF' and info:\n",
    "                                result = info[:-1]\n",
    "                                info = f.readline()\n",
    "                            if result[:3] == 'run':\n",
    "                                result = 'dump'\n",
    "                            name = info.split(' : ')[0]\n",
    "                            timeout = info.split(' : ')[1][:-4]\n",
    "                            self.records.loc[self.records['filename'] == name, ['result', 'timeout']] = [result, timeout]\n",
    "                except:\n",
    "                    print(filename, ' ', info)\n",
    "        \n",
    "    def save_to(self, filename):\n",
    "        self.records.to_excel(filename)\n",
    "    \n",
    "    def show(self):\n",
    "        folder_list = os.listdir(self.path)\n",
    "        count = []\n",
    "        solved = []\n",
    "        dump = []\n",
    "        timeout = []\n",
    "        for folder in folder_list:\n",
    "            count.append(len(self.records[self.records['category'] == folder]))\n",
    "            solved.append(len(self.records[(self.records['category'] == folder) & (self.records['result'].str.contains('sat'))]))\n",
    "            dump.append(len(self.records[(self.records['category'] == folder) & (self.records['result'] == ('dump'))]))\n",
    "            timeout.append(len(self.records[(self.records['category'] == folder) & (self.records['result'] == ('timeout'))]))\n",
    "        plt.figure(figsize=(18, 8))\n",
    "        plt.bar(folder_list, solved, label=\"solved\", color='green')\n",
    "        plt.bar(folder_list, timeout, label=\"timeout\", bottom=solved, color='orange')\n",
    "        bot = [i + j for i, j in zip(solved, timeout)]\n",
    "        plt.bar(folder_list, dump, label=\"dump\", bottom=bot, color='red')\n",
    "        # plt.bar(folder_list, count, label=\"total\", bottom=timeout, color='gray')\n",
    "        plt.legend(fontsize=11, frameon=False, loc='upper center')\n",
    "        plt.xticks(rotation=270)\n",
    "        plt.show()\n",
    "    \n",
    "    def get_timeout(self, source_path='../../QF_NRA_base', target_path='../../QF_NRA_timeout'):\n",
    "        if not os.path.exists(target_path):\n",
    "            os.makedirs(target_path)\n",
    "        if os.path.exists(target_path):\n",
    "            shutil.rmtree(target_path)\n",
    "        shutil.copytree(source_path, target_path)\n",
    "        print('copy dir finished, begin delete!')\n",
    "        self.delete(target_path)\n",
    "\n",
    "    def delete(self, path):\n",
    "        folder_list = os.listdir(path)\n",
    "        for folder in folder_list:\n",
    "            new_path = os.path.join(path, folder)\n",
    "            if os.path.isdir(new_path):\n",
    "                self.delete(new_path)\n",
    "            else:\n",
    "                name = new_path[6:].replace('temp/', '').replace('_timeout', '')\n",
    "                if len(self.records[(self.records['filename'] == name) & (self.records['result'] == ('timeout'))]) == 0:\n",
    "                    os.remove(new_path)\n",
    "                    \n",
    "    def get_number(self, path):\n",
    "        index = 0\n",
    "        folder_list = os.listdir(path)\n",
    "        for folder in folder_list:\n",
    "            new_path = os.path.join(path, folder)\n",
    "            if os.path.isdir(new_path):\n",
    "                index += self.get_number(new_path)\n",
    "            else:\n",
    "                index += 1\n",
    "        return index"
   ]
  },
  {
   "cell_type": "code",
   "execution_count": 2,
   "metadata": {},
   "outputs": [],
   "source": [
    "a = QF_NRA(init=True)\n",
    "a.records\n",
    "a.save_to('base1.xlsx')"
   ]
  },
  {
   "cell_type": "code",
   "execution_count": null,
   "metadata": {},
   "outputs": [],
   "source": [
    "a = QF_NRA(execl='base.xlsx')\n",
    "a.arrange()\n",
    "a.save_to('result.xlsx')"
   ]
  },
  {
   "cell_type": "code",
   "execution_count": 2,
   "metadata": {},
   "outputs": [
    {
     "name": "stderr",
     "output_type": "stream",
     "text": [
      "result_cvc5:  77%|███████▋  | 96/124 [00:02<00:00, 34.29it/s]"
     ]
    },
    {
     "name": "stdout",
     "output_type": "stream",
     "text": [
      "result_21.log   \n"
     ]
    },
    {
     "name": "stderr",
     "output_type": "stream",
     "text": [
      "result_cvc5:  84%|████████▍ | 104/124 [00:03<00:00, 34.16it/s]"
     ]
    },
    {
     "name": "stdout",
     "output_type": "stream",
     "text": [
      "result_40.log   \n"
     ]
    },
    {
     "name": "stderr",
     "output_type": "stream",
     "text": [
      "result_cvc5: 100%|██████████| 124/124 [00:03<00:00, 32.92it/s]\n"
     ]
    }
   ],
   "source": [
    "a = QF_NRA(execl='base.xlsx', data_path='result_cvc5')\n",
    "a.arrange()\n",
    "a.save_to('result_cvc5.xlsx')"
   ]
  },
  {
   "cell_type": "code",
   "execution_count": null,
   "metadata": {},
   "outputs": [],
   "source": [
    "a = QF_NRA(execl='result.xlsx')\n",
    "# a.delete(path='../../QF_NRA_timeout')\n",
    "# a.get_number('../../QF_NRA_timeout')"
   ]
  },
  {
   "cell_type": "code",
   "execution_count": null,
   "metadata": {},
   "outputs": [],
   "source": [
    "a.show()"
   ]
  }
 ],
 "metadata": {
  "interpreter": {
   "hash": "ea814c3531ae77f1261bb949d124920aea475d117d8f9e008315caff54af25de"
  },
  "kernelspec": {
   "display_name": "Python 3.9.7 ('z3')",
   "language": "python",
   "name": "python3"
  },
  "language_info": {
   "codemirror_mode": {
    "name": "ipython",
    "version": 3
   },
   "file_extension": ".py",
   "mimetype": "text/x-python",
   "name": "python",
   "nbconvert_exporter": "python",
   "pygments_lexer": "ipython3",
   "version": "3.9.7"
  },
  "orig_nbformat": 4
 },
 "nbformat": 4,
 "nbformat_minor": 2
}
